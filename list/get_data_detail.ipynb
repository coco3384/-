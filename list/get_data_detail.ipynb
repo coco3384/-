{
 "cells": [
  {
   "cell_type": "code",
   "execution_count": 1,
   "id": "f6f8fe70-5592-43c7-9b3f-e179aa63bda4",
   "metadata": {},
   "outputs": [],
   "source": [
    "def load_database():\n",
    "    return {'ortho': pd.read_csv('ortho_all.csv'), 'DMC': pd.read_csv('DMC_all.csv')}\n",
    "\n",
    "def get_data_you_have(path, type):\n",
    "    # load database\n",
    "    database = load_database2()[type]\n",
    "    \n",
    "    # read your fileList\n",
    "    with open(path, 'r') as f:\n",
    "        file_list = f.readlines()\n",
    "    name_list = []\n",
    "    for file in file_list:\n",
    "        if file.split('.')[-1] in ['png\\n', 'tif\\n', 'jpg\\n', 'jpeg\\n', 'tiff\\n']:\n",
    "            if type == 'ortho':\n",
    "                name_list.append(file.split('.')[0])\n",
    "            elif type == 'DMC':\n",
    "                name = file.split('.')[0].split('_')[0] + '_' + file.split('.')[0].split('_')[1]\n",
    "                name_list.append(name)\n",
    "    mask = []\n",
    "    for name in database.NAME:\n",
    "        mask.append(name in name_list)\n",
    "    return database[mask].reset_index(drop=True)    "
   ]
  },
  {
   "cell_type": "code",
   "execution_count": null,
   "id": "f5890f4e-e42f-4993-afd3-c98432c6801f",
   "metadata": {},
   "outputs": [],
   "source": [
    "path = input('path to your list:')\n",
    "type = input('ortho or DMC')\n",
    "take_data_you_have(path, type)"
   ]
  }
 ],
 "metadata": {
  "kernelspec": {
   "display_name": "Python 3 (ipykernel)",
   "language": "python",
   "name": "python3"
  },
  "language_info": {
   "codemirror_mode": {
    "name": "ipython",
    "version": 3
   },
   "file_extension": ".py",
   "mimetype": "text/x-python",
   "name": "python",
   "nbconvert_exporter": "python",
   "pygments_lexer": "ipython3",
   "version": "3.8.3"
  }
 },
 "nbformat": 4,
 "nbformat_minor": 5
}
