{
 "cells": [
  {
   "cell_type": "code",
   "execution_count": 5,
   "id": "3f5a7f35-ba72-458d-9334-489fbc521121",
   "metadata": {},
   "outputs": [],
   "source": [
    "import numpy as np\n",
    "import pandas as pd"
   ]
  },
  {
   "cell_type": "code",
   "execution_count": 6,
   "id": "81a44a0c-d98f-4990-89e8-cbff17cc0210",
   "metadata": {},
   "outputs": [],
   "source": [
    "def read_csv(csv_list):\n",
    "    output = pd.DataFrame()\n",
    "    for csv in csv_list:\n",
    "        df = pd.read_csv(csv)\n",
    "        output = pd.concat([output, df])\n",
    "    output.reset_index(drop=True, inplace=True)\n",
    "    return output\n",
    "\n",
    "def load_database():\n",
    "    \n",
    "    # all the ortho filenames\n",
    "    ortho_df = read_csv(['ortho1200_all.csv'])\n",
    "    ortho_df['label'] = [False for i in range(len(ortho_df))]\n",
    "    ortho_df.columns = ortho_df.columns.str.replace('現有檔名', 'NAME')\n",
    "    ortho_df.NAME = ortho_df.apply(lambda x: x.NAME.split('.')[0], axis=1)\n",
    "    ortho_df['CloudRate'] = ortho_df['CloudRate'].apply(lambda x: x // 10)\n",
    "    ortho_df['secret'] = ortho_df.apply(lambda x: x.NAME[-1] == 'c', axis=1)\n",
    "    \n",
    "    # all the DMC filenames\n",
    "    aerial_df = read_csv(['DMC2021_pick_all.csv', 'DMC3_with_quality.csv'])\n",
    "    aerial_df['label'] = [False for i in range(len(aerial_df))]\n",
    "    aerial_df['NAME'] = aerial_df.apply(lambda x: x.filename if isinstance(x.filename, str) else x['name'], axis=1)\n",
    "    aerial_df['secret'] = aerial_df.apply(lambda x: x.NAME[-1] == 'c', axis=1)\n",
    "    aerial_df.NAME = aerial_df.apply(lambda x: x.NAME.split('.')[0], axis=1)\n",
    "    return {'ortho': ortho_df[['NAME', 'CloudRate', 'secret', 'label']], 'DMC': aerial_df[['NAME', 'QUALITY', 'secret', 'label']]}"
   ]
  },
  {
   "cell_type": "code",
   "execution_count": 13,
   "id": "69946f4c-9a69-4056-8aa7-4efc4d5dc9c2",
   "metadata": {},
   "outputs": [],
   "source": [
    "output = load_database()\n",
    "for phase in ['ortho', 'DMC']:\n",
    "    output[phase].to_csv(f'{phase}_all.csv', index=False)"
   ]
  },
  {
   "cell_type": "code",
   "execution_count": null,
   "id": "cebde483-4e99-47c0-bf33-8b981eae9bba",
   "metadata": {},
   "outputs": [],
   "source": []
  }
 ],
 "metadata": {
  "kernelspec": {
   "display_name": "AARS2023",
   "language": "python",
   "name": "aars2023"
  },
  "language_info": {
   "codemirror_mode": {
    "name": "ipython",
    "version": 3
   },
   "file_extension": ".py",
   "mimetype": "text/x-python",
   "name": "python",
   "nbconvert_exporter": "python",
   "pygments_lexer": "ipython3",
   "version": "3.11.3"
  }
 },
 "nbformat": 4,
 "nbformat_minor": 5
}
